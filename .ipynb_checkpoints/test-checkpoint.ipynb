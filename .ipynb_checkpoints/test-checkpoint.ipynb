{
 "cells": [
  {
   "cell_type": "code",
   "execution_count": 6,
   "id": "dec18ade-9325-4c25-bba2-4909a8157e20",
   "metadata": {},
   "outputs": [],
   "source": [
    "import sqlite3\n",
    "conn = sqlite3.connect('database.db')\n",
    "c = conn.cursor()"
   ]
  },
  {
   "cell_type": "code",
   "execution_count": 21,
   "id": "756f522c-ef17-46cf-af00-53d9da0a53ca",
   "metadata": {},
   "outputs": [
    {
     "data": {
      "text/plain": [
       "<sqlite3.Cursor at 0x7f0f8ce282d0>"
      ]
     },
     "execution_count": 21,
     "metadata": {},
     "output_type": "execute_result"
    }
   ],
   "source": [
    "c = conn.cursor()\n",
    "c.execute('''CREATE TABLE users\n",
    "         (user_id INTEGER PRIMARY KEY AUTOINCREMENT,\n",
    "         chat_id INTEGER NOT NULL);''')"
   ]
  },
  {
   "cell_type": "code",
   "execution_count": 12,
   "id": "59c16a79-fb95-434e-a458-df29477af3fe",
   "metadata": {},
   "outputs": [],
   "source": [
    "c.execute('''SELECT user_id FROM users WHERE chat_id = chat_id''')\n",
    "user_id = c.fetchone()"
   ]
  },
  {
   "cell_type": "code",
   "execution_count": 13,
   "id": "a8c30c30-1652-4c91-b1f0-ac3ec6833447",
   "metadata": {},
   "outputs": [
    {
     "name": "stdout",
     "output_type": "stream",
     "text": [
      "None\n"
     ]
    }
   ],
   "source": [
    "print(user_id)"
   ]
  },
  {
   "cell_type": "code",
   "execution_count": 20,
   "id": "5f5b82fd-5562-4ce2-88b4-d58af70568f2",
   "metadata": {},
   "outputs": [
    {
     "ename": "OperationalError",
     "evalue": "no such table: users",
     "output_type": "error",
     "traceback": [
      "\u001b[0;31m---------------------------------------------------------------------------\u001b[0m",
      "\u001b[0;31mOperationalError\u001b[0m                          Traceback (most recent call last)",
      "Input \u001b[0;32mIn [20]\u001b[0m, in \u001b[0;36m<module>\u001b[0;34m\u001b[0m\n\u001b[0;32m----> 1\u001b[0m \u001b[43mc\u001b[49m\u001b[38;5;241;43m.\u001b[39;49m\u001b[43mexecute\u001b[49m\u001b[43m(\u001b[49m\u001b[38;5;124;43m'''\u001b[39;49m\u001b[38;5;124;43mDROP TABLE users\u001b[39;49m\u001b[38;5;124;43m'''\u001b[39;49m\u001b[43m)\u001b[49m\n",
      "\u001b[0;31mOperationalError\u001b[0m: no such table: users"
     ]
    }
   ],
   "source": [
    "c.execute('''DROP TABLE users''')"
   ]
  },
  {
   "cell_type": "code",
   "execution_count": 22,
   "id": "4cd2449c-b245-40ce-b700-fdd318db531e",
   "metadata": {},
   "outputs": [
    {
     "data": {
      "text/plain": [
       "<sqlite3.Cursor at 0x7f0f8ce282d0>"
      ]
     },
     "execution_count": 22,
     "metadata": {},
     "output_type": "execute_result"
    }
   ],
   "source": [
    "c.execute('''CREATE TABLE user_info\n",
    "        (user_id INTEGER PRIMARY KEY,\n",
    "        name TEXT NOT NULL,\n",
    "        dob TEXT NOT NULL,\n",
    "        ic TEXT NOT NULL);''')"
   ]
  },
  {
   "cell_type": "code",
   "execution_count": 23,
   "id": "847943b8-a566-4027-8cea-8a5ac049d75f",
   "metadata": {},
   "outputs": [],
   "source": [
    "#Manage users, retival of user data, registration, etc\n",
    "\n",
    "from sqlite3 import *\n",
    "\n",
    "def is_registered(chat_id):\n",
    "    db = connect(\"database.db\")\n",
    "    c = db.cursor()\n",
    "    c.execute('''SELECT user_id FROM users WHERE chat_id = chat_id''')\n",
    "    user_id = c.fetchone()\n",
    "    db.close()\n",
    "    return user_id != None\n",
    "\n",
    "def register(chat_id,info):\n",
    "    db = connect(\"database.db\")\n",
    "    c = db.cursor()\n",
    "    c.execute('''INSERT INTO users (chat_id) VALUES (:chat_id)''', {chat_id:chat_id})\n",
    "    user_id = get_user_id(chat_id)\n",
    "    info.update({\"user_id\":user_id})\n",
    "    c.execute('''INSERT INTO user_info (user_id, name, dob, ic) VALUES (:user_id, :name, :dob, :ic)''', info)\n",
    "    db.close()\n",
    "\n",
    "def get_user_id(chat_id):\n",
    "    db = connect(\"database.db\")\n",
    "    c = db.cursor()\n",
    "    user_id = c.execute('''SELECT user_id FROM users WHERE chat_id = chat_id''').fetchone()\n",
    "    db.close()\n",
    "    return user_id\n",
    "\n",
    "def get_user_name(user_id):\n",
    "    db = connect(\"database.db\")\n",
    "    c = db.cursor()\n",
    "    name = c.execute('''SELECT name FROM user_info WHERE user_id = user_id''').fetchone()\n",
    "    db.close()\n",
    "    return name\n",
    "\n",
    "def get_user_dob(user_id):\n",
    "    db = connect(\"database.db\")\n",
    "    c = db.cursor()\n",
    "    dob = c.execute('''SELECT dob FROM user_info WHERE user_id = user_id''').fetchone()\n",
    "    db.close()\n",
    "    return dob\n",
    "\n",
    "def get_user_ic(user_id):\n",
    "    db = connect(\"database.db\")\n",
    "    c = db.cursor()\n",
    "    ic = c.execute('''SELECT ic FROM user_info WHERE user_id = user_id''').fetchone()\n",
    "    db.close()\n",
    "    return ic"
   ]
  },
  {
   "cell_type": "code",
   "execution_count": 7,
   "id": "fc091857-c714-49a8-b225-301a96abcb82",
   "metadata": {},
   "outputs": [
    {
     "name": "stdout",
     "output_type": "stream",
     "text": [
      "[]\n"
     ]
    }
   ],
   "source": [
    "print(c.execute('''SELECT * FROM users''').fetchall())"
   ]
  },
  {
   "cell_type": "code",
   "execution_count": null,
   "id": "a4cae400-ca60-4ce8-b2e8-b60d69fee0bf",
   "metadata": {},
   "outputs": [],
   "source": []
  }
 ],
 "metadata": {
  "kernelspec": {
   "display_name": "Python 3 (ipykernel)",
   "language": "python",
   "name": "python3"
  },
  "language_info": {
   "codemirror_mode": {
    "name": "ipython",
    "version": 3
   },
   "file_extension": ".py",
   "mimetype": "text/x-python",
   "name": "python",
   "nbconvert_exporter": "python",
   "pygments_lexer": "ipython3",
   "version": "3.8.10"
  }
 },
 "nbformat": 4,
 "nbformat_minor": 5
}
